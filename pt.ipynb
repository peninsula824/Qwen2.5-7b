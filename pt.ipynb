{
 "cells": [
  {
   "cell_type": "markdown",
   "id": "2dad9827-b6dd-4f1b-85a4-79b58516e142",
   "metadata": {},
   "source": [
    "# https://www.modelscope.cn/models/qwen/Qwen2.5-7B/files"
   ]
  },
  {
   "cell_type": "code",
   "execution_count": null,
   "id": "c12e1c46-d441-4465-be5b-59c1bdc52721",
   "metadata": {},
   "outputs": [],
   "source": [
    "pip install modelscope"
   ]
  },
  {
   "cell_type": "code",
   "execution_count": null,
   "id": "dddc1d28-3c88-4758-ae19-4719edcd3ff3",
   "metadata": {},
   "outputs": [],
   "source": [
    "modelscope download --model qwen/Qwen2.5-7B"
   ]
  },
  {
   "cell_type": "code",
   "execution_count": null,
   "id": "5c5d7ca3-53bf-49ee-bbc7-f26988ebcaf4",
   "metadata": {},
   "outputs": [],
   "source": [
    "git lfs install"
   ]
  },
  {
   "cell_type": "code",
   "execution_count": null,
   "id": "cf961d27-af3d-4917-94a6-e790c3e65558",
   "metadata": {},
   "outputs": [],
   "source": [
    "git clone https://www.modelscope.cn/qwen/Qwen2.5-7B.git"
   ]
  }
 ],
 "metadata": {
  "kernelspec": {
   "display_name": "Python 3 (ipykernel)",
   "language": "python",
   "name": "python3"
  },
  "language_info": {
   "codemirror_mode": {
    "name": "ipython",
    "version": 3
   },
   "file_extension": ".py",
   "mimetype": "text/x-python",
   "name": "python",
   "nbconvert_exporter": "python",
   "pygments_lexer": "ipython3",
   "version": "3.10.8"
  }
 },
 "nbformat": 4,
 "nbformat_minor": 5
}
